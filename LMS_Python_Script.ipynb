{
  "nbformat": 4,
  "nbformat_minor": 0,
  "metadata": {
    "colab": {
      "provenance": []
    },
    "kernelspec": {
      "name": "python3",
      "display_name": "Python 3"
    },
    "language_info": {
      "name": "python"
    }
  },
  "cells": [
    {
      "cell_type": "code",
      "source": [
        "from google.colab import drive\n",
        "drive.mount('/content/drive')\n"
      ],
      "metadata": {
        "id": "Joz7xu_Q4Ggc",
        "colab": {
          "base_uri": "https://localhost:8080/"
        },
        "outputId": "49e9d119-1dd0-4691-8195-3b3bfe796d2a"
      },
      "execution_count": 2,
      "outputs": [
        {
          "output_type": "stream",
          "name": "stdout",
          "text": [
            "Mounted at /content/drive\n"
          ]
        }
      ]
    },
    {
      "cell_type": "code",
      "source": [
        "file_path = '/content/drive/My Drive/LMS_raw.txt'\n",
        "with open(file_path, 'r', encoding='utf-8') as file:\n",
        "    content = file.read()\n",
        "    # print(content)\n"
      ],
      "metadata": {
        "id": "nrZQCYO-6Mvc"
      },
      "execution_count": 16,
      "outputs": []
    },
    {
      "cell_type": "code",
      "source": [
        "import re\n",
        "import pandas as pd\n",
        "\n",
        "# Regular expressions to match first names, last names, and Gmail addresses\n",
        "first_name_regex = r'\"first_name\":\\s*\"(.*?)\"'\n",
        "last_name_regex = r'\"last_name\":\\s*\"(.*?)\"'\n",
        "gmail_regex = r'\"email\":\\s*\"(.*?@gmail\\.com)\"'\n",
        "\n",
        "# Find all matches in the content\n",
        "first_names = re.findall(first_name_regex, content)\n",
        "last_names = re.findall(last_name_regex, content)\n",
        "emails = re.findall(gmail_regex, content)\n",
        "\n",
        "# Initialize a list to hold the filtered data\n",
        "filtered_data = []\n",
        "\n",
        "# Loop through each email and check if it ends with \"@gmail.com\"\n",
        "for email in emails:\n",
        "    # Find the index of the email in the original list to match it with the corresponding names\n",
        "    index = emails.index(email)\n",
        "    # Add the first name, last name, and email to the filtered_data list\n",
        "    filtered_data.append((first_names[index], last_names[index], email))\n",
        "\n",
        "# Convert the filtered data to a DataFrame\n",
        "df_filtered = pd.DataFrame(filtered_data, columns=['First Name', 'Last Name', 'Email'])\n",
        "\n",
        "output_excel_path = 'filtered_names_and_emails.xlsx'\n",
        "\n",
        "df_filtered.to_excel(output_excel_path, index=False)\n",
        "\n",
        "print(f'Filtered data has been successfully saved to {output_excel_path}.')\n"
      ],
      "metadata": {
        "colab": {
          "base_uri": "https://localhost:8080/"
        },
        "id": "nDpW4XO6_rko",
        "outputId": "e82117a7-83da-4741-c453-dd28764c4aa7"
      },
      "execution_count": 24,
      "outputs": [
        {
          "output_type": "stream",
          "name": "stdout",
          "text": [
            "Filtered data has been successfully saved to filtered_names_and_emails.xlsx.\n"
          ]
        }
      ]
    },
    {
      "cell_type": "code",
      "source": [],
      "metadata": {
        "id": "cuXRlpau_3ZU"
      },
      "execution_count": null,
      "outputs": []
    }
  ]
}